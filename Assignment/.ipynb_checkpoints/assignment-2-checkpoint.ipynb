{
 "cells": [
  {
   "cell_type": "markdown",
   "metadata": {},
   "source": [
    "# ** Assignment 2 **\n",
    "\n",
    "## <span style=\"color:red\"> Notice: There are negative points if you don't follow the rules below: </span>\n",
    "\n",
    "1) Due Date: 2021년 1월 28일 (목), 9:00 AM  \n",
    "2) 제출방법: 구글 이메일 (qwertyuiop7823@gmail.com) 전송  \n",
    "3) 메일제목: [VSGIS-CS-Assignment1] 본인이름  \n",
    "4) 알집파일 제목: Assignment_1_본인이름.zip "
   ]
  },
  {
   "cell_type": "markdown",
   "metadata": {},
   "source": [
    "### 일반 연습 문제"
   ]
  },
  {
   "cell_type": "markdown",
   "metadata": {},
   "source": [
    "1) 다음 6 개의 Expression에 대해 Evaluation 결과 값을 출력하고, 해당 결과가 나온 이유에 대해 설명하시오\n",
    "  - 1 and 2 and 3 and 4\n",
    "  - 1 or 2 or 3 or 4\n",
    "  - 1 and 2 or 3 and 4\n",
    "  - (1 and 2) or (3 and 4)\n",
    "  - 1 or 2 and 3 or 4\n",
    "  - (1 or 2) and (3 or 4)"
   ]
  },
  {
   "cell_type": "markdown",
   "metadata": {},
   "source": [
    "### ACM-ICPC 문제"
   ]
  },
  {
   "cell_type": "markdown",
   "metadata": {},
   "source": [
    "1) [ACM-ICPC 문제 10809번]\n",
    "  - 알파벳 찾기<br>\n",
    "https://www.acmicpc.net/problem/10809"
   ]
  },
  {
   "cell_type": "code",
   "execution_count": null,
   "metadata": {},
   "outputs": [],
   "source": []
  }
 ],
 "metadata": {
  "anaconda-cloud": {},
  "kernelspec": {
   "display_name": "Python 3",
   "language": "python",
   "name": "python3"
  },
  "language_info": {
   "codemirror_mode": {
    "name": "ipython",
    "version": 3
   },
   "file_extension": ".py",
   "mimetype": "text/x-python",
   "name": "python",
   "nbconvert_exporter": "python",
   "pygments_lexer": "ipython3",
   "version": "3.7.3"
  }
 },
 "nbformat": 4,
 "nbformat_minor": 1
}
