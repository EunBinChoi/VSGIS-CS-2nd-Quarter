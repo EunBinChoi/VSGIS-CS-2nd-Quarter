{
 "cells": [
  {
   "cell_type": "markdown",
   "metadata": {},
   "source": [
    "# ** Assignment 2 **\n",
    "\n",
    "\n",
    "### 1. All assignment must be submitted on the due date at the beginning of class.\n",
    "\n",
    "### 2. Students may turn in late assignments up to one day late for half credit. Assignments turned in after this time will not receive a grade.\n",
    "\n",
    "### 3. There are negative points if you don't follow the rules below:  \n",
    "\n",
    "* 1) Due Date: 2021년 2월 4일 (Thurs), 9:00 AM    \n",
    "*  2) You should send your assignment by email (qwertyuiop7823@gmail.com)  \n",
    "*  3) Email Subject: [VSGIS-CS-Assignment2] YourName  \n",
    "*  4) File Name: Assignment_2_YourName.zip Assignment_2_YourName.7z   "
   ]
  },
  {
   "cell_type": "markdown",
   "metadata": {},
   "source": [
    "## 일반 연습 문제"
   ]
  },
  {
   "cell_type": "markdown",
   "metadata": {},
   "source": [
    "1) 다음 6 개의 Expression에 대해 Evaluation 결과 값을 출력하고, 해당 결과가 나온 이유에 대해 설명하시오.\n",
    "  - 1 and 2 and 3 and 4\n",
    "  - 1 or 2 or 3 or 4\n",
    "  - 1 and 2 or 3 and 4\n",
    "  - (1 and 2) or (3 and 4)\n",
    "  - 1 or 2 and 3 or 4\n",
    "  - (1 or 2) and (3 or 4)"
   ]
  },
  {
   "cell_type": "markdown",
   "metadata": {},
   "source": [
    "2) 사용자에게 두 수를 입력받아 max 값을 구하는 프로그램을 작성하시오. "
   ]
  },
  {
   "cell_type": "markdown",
   "metadata": {},
   "source": [
    "3) 사용자에게 두 수를 입력받아 min 값을 구하는 프로그램을 작성하시오."
   ]
  },
  {
   "cell_type": "markdown",
   "metadata": {},
   "source": [
    "4) 사용자에게 연도를 입력받아 윤년을 구하는 프로그램을 작성하시오.  \n",
    "\n",
    "만약 윤년이면 1, 아니면 0을 출력하는 프로그램을 작성하시오.\n",
    "\n",
    "* 윤년의 조건: (1번과 2번 중 하나만 만족해도 윤년임)   \n",
    "1) 연도가 4의 배수이면서 100의 배수가 아닐 때  \n",
    "2) 400의 배수일 때    \n",
    "\n",
    "\n",
    "* 예를 들어, 2012년은 4의 배수이면서 100의 배수가 아니여서 윤년임  \n",
    "* 예를 들어, 1900년은 100의 배수이고 400의 배수는 아니기 때문에 윤년이 아님  \n",
    "* 예를 들어, 2000년은 400의 배수이기 때문에 윤년임  "
   ]
  },
  {
   "cell_type": "markdown",
   "metadata": {},
   "source": [
    "5) 흔한 수학 문제 중 하나는 주어진 점이 어느 사분면에 속하는지 알아내는 프로그램을 작성하시오. 사분면은 아래 그림처럼 1부터 4까지 번호를 갖는다. \"Quadrant n\"은 \"제n사분면\"이라는 뜻이다.\n",
    "\n",
    "* 예를 들어, 좌표가 (12, 5)인 점 A는 x좌표와 y좌표가 모두 양수이므로 제1사분면에 속한다. \n",
    "* 예를 들어, 좌표가 (-12, 5)인 점 B는 x좌표가 음수이고 y좌표가 양수이므로 제2사분면에 속한다.\n",
    "\n",
    "사용자에게 점의 좌표를 입력받아 그 점이 어느 사분면에 속하는지 알아내는 프로그램을 작성하시오."
   ]
  },
  {
   "cell_type": "markdown",
   "metadata": {},
   "source": [
    "6) 사용자에게 시험 점수를 입력받아 90 ~ 100점은 A, 80 ~ 89점은 B, 70 ~ 79점은 C, 60 ~ 69점은 D, 나머지 점수는 F를 출력하는 프로그램을 작성하시오."
   ]
  }
 ],
 "metadata": {
  "anaconda-cloud": {},
  "kernelspec": {
   "display_name": "Python 3",
   "language": "python",
   "name": "python3"
  },
  "language_info": {
   "codemirror_mode": {
    "name": "ipython",
    "version": 3
   },
   "file_extension": ".py",
   "mimetype": "text/x-python",
   "name": "python",
   "nbconvert_exporter": "python",
   "pygments_lexer": "ipython3",
   "version": "3.7.3"
  }
 },
 "nbformat": 4,
 "nbformat_minor": 1
}
