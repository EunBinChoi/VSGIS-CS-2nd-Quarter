{
 "cells": [
  {
   "cell_type": "markdown",
   "metadata": {},
   "source": [
    "# ** Assignment 3 **\n",
    "\n",
    "\n",
    "### 1. All assignment must be submitted on the due date at the beginning of class.\n",
    "\n",
    "### 2. Students may turn in late assignments up to one day late for half credit. Assignments turned in after this time will not receive a grade.\n",
    "\n",
    "### 3. There are negative points if you don't follow the rules below:  \n",
    "\n",
    "* 1) Due Date: 2021년 2월 11일 (Thurs), 9:00 AM    \n",
    "*  2) You should send your assignment by email (qwertyuiop7823@gmail.com)  \n",
    "*  3) Email Subject: [VSGIS-CS-Assignment3] YourName  \n",
    "*  4) File Name: Assignment_3_YourName.zip Assignment_3_YourName.7z   "
   ]
  },
  {
   "cell_type": "markdown",
   "metadata": {},
   "source": [
    "1. 사용자에게 정수 n을 입력받아 1~n까지 소수 ((*) prime number)를 구하는 프로그램을 작성하고 1~n까지 소수가 몇 개가 있는지도 함께 출력하시오. \n",
    "\n",
    "> (*) prime number: 1보다 크고 1과 자기자신으로만 나누어지는 수\n",
    "\n",
    "> ex) 5(=1×5 또는 5×1)은 1과 자기자신으로만 나누어지기 때문에 소수이다.  \n",
    "그러나, 6은 1×6 또는 6×1로 6을 구할 수도 있고, 2×3 또는 3×2로 6을 구할 수 있기 때문에 6은 소수가 아니다.\n"
   ]
  },
  {
   "cell_type": "markdown",
   "metadata": {},
   "source": [
    "2. 피타고라스 정리는 직사각형에서 직각을 낀 두 변의 길이를 a, b라고 하고 빗변의 길이를 c라고 하면 \n",
    "$$ a^2 + b^2 = c^2 $$\n",
    "\n",
    "> 각 변의 길이가 100보다 작은 삼각형 중에서 피타고라스의 정리가 성립하는 직각 삼각형은 몇 개나 있을까?\n",
    "\n",
    "> 3중 반복문을 이용하여 피타고라스의 정리를 만족하는 3개의 정수를 찾도록 한다. "
   ]
  },
  {
   "cell_type": "markdown",
   "metadata": {},
   "source": [
    "3. 사용자로부터 키와 몸무게를 입력받아서 표준체중을 계산한 후에 사용자의 체중과 비교하여 저체중인지, 표준인지, 과제중인지 판단하는 프로그램을 작성하라.\n",
    "> 표준 체중 계산식은 다음을 이용하라. \n",
    "$$ 표준 체중 = (키-100) * 0.9 $$"
   ]
  },
  {
   "cell_type": "markdown",
   "metadata": {},
   "source": [
    "4. 간단한 계산기 프로그램을 작성해보자. 사용자로부터 하나의 문자를 먼저 입력받고 이후 2개의 숫자를 입력받는다. \n",
    "\n",
    "> 사용자로부터 받은 문자가  \n",
    "'+' : 두 수의 덧셈   \n",
    "'-' : 두 수의 뺄셈  \n",
    "'*' : 두 수의 곱셈   \n",
    "'/' : 두 수의 나눗셈 (분모가 0이 아닌지 검사!)"
   ]
  },
  {
   "cell_type": "markdown",
   "metadata": {},
   "source": [
    "5. 피보나치 수열은 다음과 같이 정의되는 수열이다.\n",
    "\n",
    "> f(n) = f(n-1) + f(n-2) (if n > 1)  \n",
    "> f(n) = 0 (if n = 0)  \n",
    "> f(n) = 1 (if n = 1)  \n",
    "\n",
    "> 피보나치 수열에서는 앞의 두 개의 원소를 합하여 뒤의 원소를 만듦  \n",
    "> 피보나치 수열에서 처음 몇 개의 원소를 나열하면 다음과 같음:  \n",
    "> ex) 0, 1, 1, 2, 3, 5, 6, 13, 21, 34, 55...."
   ]
  }
 ],
 "metadata": {
  "kernelspec": {
   "display_name": "Python 3",
   "language": "python",
   "name": "python3"
  },
  "language_info": {
   "codemirror_mode": {
    "name": "ipython",
    "version": 3
   },
   "file_extension": ".py",
   "mimetype": "text/x-python",
   "name": "python",
   "nbconvert_exporter": "python",
   "pygments_lexer": "ipython3",
   "version": "3.7.3"
  }
 },
 "nbformat": 4,
 "nbformat_minor": 2
}
