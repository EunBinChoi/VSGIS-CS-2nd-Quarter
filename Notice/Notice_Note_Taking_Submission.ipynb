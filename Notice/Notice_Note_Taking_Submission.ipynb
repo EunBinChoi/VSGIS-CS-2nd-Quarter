{
 "cells": [
  {
   "cell_type": "markdown",
   "metadata": {},
   "source": [
    "# From 2021/01/27 class:\n",
    "\n",
    "### After finishing every class, you should submit your notes (.py or .ipynb file) by email (qwertyuiop7823@gmail.com).\n",
    "\n",
    "### Or you may share your google colab note.\n",
    "\n",
    "### Otherwise, scores corresponding to the report category may be deducted."
   ]
  }
 ],
 "metadata": {
  "kernelspec": {
   "display_name": "Python 3",
   "language": "python",
   "name": "python3"
  },
  "language_info": {
   "codemirror_mode": {
    "name": "ipython",
    "version": 3
   },
   "file_extension": ".py",
   "mimetype": "text/x-python",
   "name": "python",
   "nbconvert_exporter": "python",
   "pygments_lexer": "ipython3",
   "version": "3.7.3"
  }
 },
 "nbformat": 4,
 "nbformat_minor": 2
}
