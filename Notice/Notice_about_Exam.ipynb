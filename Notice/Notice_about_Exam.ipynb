{
 "cells": [
  {
   "cell_type": "markdown",
   "metadata": {},
   "source": [
    "# [VSGIS CS 2nd Quarter]\n",
    "\n",
    "# Notice\n",
    "\n",
    "- Midterm Exam: 2021/02/19(Fri)\n",
    "- Coding online (using Google Colab or Eclipse)\n",
    "- Submit .py or .ipynb file\n",
    "\n",
    "\n",
    "- Final Project Presentation: 2021/03/19(Fri)  \n",
    "<span style=\"color:red\"><b> (revised) We have a project which is instead of the final exam! </span></b>\n",
    "\n"
   ]
  },
  {
   "cell_type": "markdown",
   "metadata": {},
   "source": [
    "# FYI\n",
    "- Grade Upload: 2021/03/22\n",
    "- Make-up Period: 2021/03/22~03/31\n",
    "- Fianl Grade Upload: 2021/03/31"
   ]
  }
 ],
 "metadata": {
  "kernelspec": {
   "display_name": "Python 3",
   "language": "python",
   "name": "python3"
  },
  "language_info": {
   "codemirror_mode": {
    "name": "ipython",
    "version": 3
   },
   "file_extension": ".py",
   "mimetype": "text/x-python",
   "name": "python",
   "nbconvert_exporter": "python",
   "pygments_lexer": "ipython3",
   "version": "3.7.3"
  }
 },
 "nbformat": 4,
 "nbformat_minor": 2
}
