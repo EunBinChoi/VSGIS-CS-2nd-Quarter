{
 "cells": [
  {
   "cell_type": "markdown",
   "metadata": {},
   "source": [
    "# [VSGIS CS 2nd Quarter]\n",
    "\n",
    "## Notice for Midterm Exam\n",
    "\n",
    "- Midterm Exam: 2021/02/19 (Fri)\n",
    "- Coding online (using Google Colab or Eclipse)\n",
    "- Submit .py or .ipynb file\n",
    "\n",
    "\n",
    "## Notice for Final Presentation\n",
    "- Idea Presentation: 2021/03/05 (Fri)\n",
    "- Final Presentation: 2021/03/12 (Fri)\n",
    "- You need to submit your presentation material (ppt, word ...)\n",
    "(email: qwertyuiop7823@gmail.com)"
   ]
  },
  {
   "cell_type": "markdown",
   "metadata": {},
   "source": [
    "<style type=\"text/css\">\n",
    ".tg  {border-collapse:collapse;border-spacing:0;}\n",
    ".tg td{border-color:black;border-style:solid;border-width:1px;font-family:Arial, sans-serif;font-size:14px;\n",
    "  overflow:hidden;padding:10px 5px;word-break:normal;}\n",
    ".tg th{border-color:black;border-style:solid;border-width:1px;font-family:Arial, sans-serif;font-size:14px;\n",
    "  font-weight:normal;overflow:hidden;padding:10px 5px;word-break:normal;}\n",
    ".tg .tg-dsq6{font-size:20px;text-align:center;vertical-align:middle}\n",
    ".tg .tg-td2w{border-color:inherit;font-size:20px;font-weight:bold;text-align:center;vertical-align:middle}\n",
    ".tg .tg-tki1{border-color:inherit;font-size:20px;text-align:center;vertical-align:middle}\n",
    ".tg .tg-2bvl{font-size:20px;font-weight:bold;text-align:center;vertical-align:middle}\n",
    "</style>\n",
    "<table class=\"tg\">\n",
    "<thead>\n",
    "  <tr>\n",
    "    <th class=\"tg-td2w\" colspan=\"2\">Criterion</th>\n",
    "    <th class=\"tg-td2w\">Details</th>\n",
    "    <th class=\"tg-td2w\">Score</th>\n",
    "    <th class=\"tg-2bvl\">Total</th>\n",
    "  </tr>\n",
    "</thead>\n",
    "<tbody>\n",
    "  <tr>\n",
    "    <td class=\"tg-td2w\" rowspan=\"3\">Idea</td>\n",
    "    <td class=\"tg-tki1\">Motivation</td>\n",
    "    <td class=\"tg-tki1\">Motivation (Why do you come up with such an idea?) </td>\n",
    "    <td class=\"tg-tki1\">20</td>\n",
    "    <td class=\"tg-dsq6\" rowspan=\"3\">50</td>\n",
    "  </tr>\n",
    "  <tr>\n",
    "    <td class=\"tg-tki1\">Idea Creativity</td>\n",
    "    <td class=\"tg-tki1\">Novelty and Creativity for the Supposed Idea</td>\n",
    "    <td class=\"tg-tki1\">15</td>\n",
    "  </tr>\n",
    "  <tr>\n",
    "    <td class=\"tg-tki1\">Proposed Algorithm</td>\n",
    "    <td class=\"tg-tki1\">Validity and Completeness for the Proposed Algorithm</td>\n",
    "    <td class=\"tg-tki1\">15</td>\n",
    "  </tr>\n",
    "  <tr>\n",
    "    <td class=\"tg-td2w\" rowspan=\"2\">Presentation</td>\n",
    "    <td class=\"tg-tki1\">Presentation Material</td>\n",
    "    <td class=\"tg-tki1\">MS PowerPoint, MS Word, ...</td>\n",
    "    <td class=\"tg-tki1\">10</td>\n",
    "    <td class=\"tg-dsq6\" rowspan=\"2\">30</td>\n",
    "  </tr>\n",
    "  <tr>\n",
    "    <td class=\"tg-tki1\">Delivery Power</td>\n",
    "    <td class=\"tg-tki1\">Delivery Power (How do you convey your presentation logically?)</td>\n",
    "    <td class=\"tg-tki1\">20</td>\n",
    "  </tr>\n",
    "  <tr>\n",
    "    <td class=\"tg-td2w\">Coding</td>\n",
    "    <td class=\"tg-tki1\">Implementation</td>\n",
    "    <td class=\"tg-tki1\">Source Code, Executable</td>\n",
    "    <td class=\"tg-tki1\">20</td>\n",
    "    <td class=\"tg-dsq6\">20</td>\n",
    "  </tr>\n",
    "</tbody>\n",
    "</table>"
   ]
  },
  {
   "cell_type": "markdown",
   "metadata": {},
   "source": [
    "# FYI\n",
    "- Grade Upload: 2021/03/22\n",
    "- Make-up Period: 2021/03/22~03/31\n",
    "- Fianl Grade Upload: 2021/03/31"
   ]
  }
 ],
 "metadata": {
  "kernelspec": {
   "display_name": "Python 3",
   "language": "python",
   "name": "python3"
  },
  "language_info": {
   "codemirror_mode": {
    "name": "ipython",
    "version": 3
   },
   "file_extension": ".py",
   "mimetype": "text/x-python",
   "name": "python",
   "nbconvert_exporter": "python",
   "pygments_lexer": "ipython3",
   "version": "3.7.3"
  }
 },
 "nbformat": 4,
 "nbformat_minor": 2
}
