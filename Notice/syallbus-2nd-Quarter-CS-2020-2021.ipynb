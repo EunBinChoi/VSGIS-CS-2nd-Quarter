{
 "cells": [
  {
   "cell_type": "markdown",
   "metadata": {},
   "source": [
    "# ***** syallbus *****\n",
    "## 2nd Quarter Computer 2020-2021\n",
    "\n",
    "<b>Ms. Eunbin Choi (qwertyuiop7823@gmail.com)</b>\t\n",
    "\n",
    "\n",
    "## Textbooks and Materials:\n",
    "A.\tPython Algorithm Interview (Sanggil Park) ISBN 979-11-89909-17-8\n",
    "B.\tLecture materials from various sources\n",
    "\n",
    "## Course Overview:\n",
    "\n",
    "The main purpose of the Computer course to understand computer language that humans and machines can communicate with and develop real programs. Through this process, students can develop computational thinking (CT) which is a set of problem-solving methods that involve expressing problems and their solutions in ways that a computer could also execute. In addition, students can grow into talents suitable for the future society. First, in this class, clarify a sense of purpose for why students learn computer language, and study what computer language is. Since there is no digital thing in the present and future society, it is important for students to have CT to grow into a competitive person in the future society. Second, students will learn data types and data structures using Python which is the simplest but most powerful computer language. Third, understand various functions and modules (supported by Python), and through programming practice, improve thinking skills. Later, students will study the concept of artificial intelligence (AI) and big data and practice various projects using AI and big data skill.\n",
    "\n",
    "## Course Outline: \n",
    "\n",
    "### 2nd Quarter\n",
    "A.\tUnderstanding of computer language\n",
    "B.\tData types\n",
    "C.\tData structures\n",
    "D.\tVarious functions/modules (supported by Python) \n",
    "\n",
    "### 3rd Quarter\n",
    "A.\tArtificial Intelligence (AI)\n",
    "B.\tBig data\n",
    "\n",
    "## Course Grading:\n",
    "\n",
    "Students should expect to regularly participate and submit homework, projects, reports and tests in this course. Each of these categories are weighted in the following way:\n",
    "\n",
    "## Class Participation/Class Work: 10%\n",
    "Homework: 20%\n",
    "Midterm Exam: 30%\n",
    "Reports:  10%\n",
    "Final Exam: 30%\n"
   ]
  },
  {
   "cell_type": "markdown",
   "metadata": {},
   "source": [
    "## Course Grading Scale:\n",
    "100-97: A+ \t89-87:   B+\t79-77: C+ \t69-67: D+\t0-59: F\n",
    "96-93:   A\t86-83:   B\t76-73: C\t66-63: D\n",
    "92-90:   A- \t82-80:   B- \t72-70: C-\t62-60: D-\n",
    "\n",
    "## Homework and Assignments:\n",
    "\n",
    "To ensure that students are maintaining academic rigor, there will be accountability checks (class participation, homework, and reports).  All homework (including projects) must be submitted on the due date at the beginning of class (unless stated otherwise by me). Students may turn in late assignments up to one day late for half credit. Assignments turned in after this time will not receive a grade. There are many opportunities for extra-credit to make up any missed work. If there is an emergency or extenuating circumstance, students should speak to me well before the due date and we will discuss a solution. All formal papers will have the opportunity for a rewrite to receive a better grade up to 90% until the fourth quarter when the first grade received is final.\n",
    "\n",
    "If a student misses the due date for three homework assignments in a row, or neglects the completion of a single project, paper, or presentation, parents will be notified and the student will be faced with consequences.\n",
    "\n",
    "## Definition of Class Participation:\n",
    "\n",
    "There is no automatic grade for simply attending class. Instead, each student should actively participate in class. “Active class participation” is defined as 1) arriving to class on time, 2) remaining awake and engaged with the topic(s) being discussed, 3) taking notes as needed, 4) asking questions and making appropriate comments. 5) Completing class assignments by the end of class. Every student is expected to participate in class discussion in order to receive full credit. Our time in class is not to be used for homework, sleeping, conversations with classmates, texting, etc. Participation points will be added at the end of the quarter.\n",
    "\n",
    "## Discipline:\n",
    "\n",
    "In order to ensure that learning is taking place in my classroom students must adhere to these simple rules: respect yourself, respect your classmates, and respect your teacher. When students choose to disregard these rules, as their teacher, I must take disciplinary action to avoid distractions and keep the class moving forward. Students in any situation will first receive a verbal warning before any actions are taken.  In severe cases where misbehavior or cheating occurs in succession, I follow a simple “three-strike” procedure. \n",
    "\n",
    "1.\tIf a student continually disrupts class despite receiving a warning, the student will be removed from class activities, and receive demerits.\n",
    "\n",
    "2.\tIf a student disrupts the class again and reaches the disruptive level where I must remove him or her from class activities a second time, the student will receive demerits and a parent will also be notified of the events that transpired.\n",
    "\n",
    "3.\tIf the student disrupts the class a third time and reaches the disruptive level where I must once more remove him or her from class activities, they will receive demerits (possibly resulting in a suspension) and I will require a meeting with his or her parents and/or the principal to discuss a solution. In cases of physical violence or bullying of another student, I will not allow the student to return to my class until I or the principal have had a meeting with the student’s parents to discuss further action.\n",
    "\n",
    "## Absences\n",
    "\n",
    "Students are required to be in class in order for learning to take place. If a student plans to be absent, he or she is responsible for finding out the homework in advance and completing all assignments before he or she is absent. Students with more than five total absences per quarter will be penalized according to the VSGIS handbook. In addition, if a student is more than 15 minutes late to class, the student will be marked absent.\n",
    "\n",
    "Students with an excused absence from the office will be expected to complete all assignments (homework, quizzes, and tests) by the next school day. In the event of a student missing class and then arriving later the school day, the student must submit any missing assignments by 6 PM that day and notify me by email. If the student fails to make up work by this time, it will be treated as a late grade, and if it continues, the student will receive a zero for the assignment (see homework and assignments).\n",
    "\n",
    "## Academic Honesty\n",
    "\n",
    "VSGIS is committed to a high standard of academic honesty among its students. Dishonesty in any form – cheating on examinations or quizzes, plagiarism on papers and reports, and falsification of attendance or reading reports – is not acceptable.  Penalties for academic dishonesty include grade reduction or failure on the particular paper, test, or assignment. Repeated or extreme violations could also result in failure or dismissal from a class. Penalties are imposed at the discretion of the individual faculty member in cooperation with administration. The faculty manifests its confidence in the integrity of our students and encourages students to exercise good judgment in fulfilling this responsibility.\n",
    "\n",
    "## Materials:\n",
    "-\tLaptop (IDE installation required for programming)\n",
    "-\tPencils, highlighters, erasers, etc.\n"
   ]
  },
  {
   "cell_type": "code",
   "execution_count": null,
   "metadata": {},
   "outputs": [],
   "source": []
  }
 ],
 "metadata": {
  "kernelspec": {
   "display_name": "Python 3",
   "language": "python",
   "name": "python3"
  },
  "language_info": {
   "codemirror_mode": {
    "name": "ipython",
    "version": 3
   },
   "file_extension": ".py",
   "mimetype": "text/x-python",
   "name": "python",
   "nbconvert_exporter": "python",
   "pygments_lexer": "ipython3",
   "version": "3.7.3"
  }
 },
 "nbformat": 4,
 "nbformat_minor": 2
}
